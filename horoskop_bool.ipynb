{
  "nbformat": 4,
  "nbformat_minor": 0,
  "metadata": {
    "colab": {
      "provenance": [],
      "authorship_tag": "ABX9TyNLUEiwm2UFjTntLHFy1C/G",
      "include_colab_link": true
    },
    "kernelspec": {
      "name": "python3",
      "display_name": "Python 3"
    },
    "language_info": {
      "name": "python"
    }
  },
  "cells": [
    {
      "cell_type": "markdown",
      "metadata": {
        "id": "view-in-github",
        "colab_type": "text"
      },
      "source": [
        "<a href=\"https://colab.research.google.com/github/AMNANNN/TUGAS/blob/main/horoskop_bool.ipynb\" target=\"_parent\"><img src=\"https://colab.research.google.com/assets/colab-badge.svg\" alt=\"Open In Colab\"/></a>"
      ]
    },
    {
      "cell_type": "code",
      "execution_count": 1,
      "metadata": {
        "colab": {
          "base_uri": "https://localhost:8080/"
        },
        "id": "fQNaNReyLGfe",
        "outputId": "0c309aa3-6d0b-48f6-d62c-29bc5022fef5"
      },
      "outputs": [
        {
          "output_type": "stream",
          "name": "stdout",
          "text": [
            "masukkan club pertama anda madrid\n",
            "masukkan club kedua anda city\n",
            "apakah madrid akan menang lawan city = True\n"
          ]
        }
      ],
      "source": [
        "club1 = input(\"masukkan club pertama anda \")\n",
        "club2 = input(\"masukkan club kedua anda \")\n",
        "\n",
        "menang = bool(club1) and bool(club2)\n",
        "print(f\"apakah {club1} akan menang lawan {club2} = {menang}\")\n"
      ]
    }
  ]
}