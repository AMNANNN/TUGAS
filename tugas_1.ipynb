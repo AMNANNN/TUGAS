{
  "nbformat": 4,
  "nbformat_minor": 0,
  "metadata": {
    "colab": {
      "provenance": [],
      "authorship_tag": "ABX9TyOAYAHobwEDnjNmzlne9dK6",
      "include_colab_link": true
    },
    "kernelspec": {
      "name": "python3",
      "display_name": "Python 3"
    },
    "language_info": {
      "name": "python"
    }
  },
  "cells": [
    {
      "cell_type": "markdown",
      "metadata": {
        "id": "view-in-github",
        "colab_type": "text"
      },
      "source": [
        "<a href=\"https://colab.research.google.com/github/AMNANNN/TUGAS/blob/main/tugas_1.ipynb\" target=\"_parent\"><img src=\"https://colab.research.google.com/assets/colab-badge.svg\" alt=\"Open In Colab\"/></a>"
      ]
    },
    {
      "cell_type": "markdown",
      "source": [
        "# TUGAS 1"
      ],
      "metadata": {
        "id": "ykTNT-wQqPwa"
      }
    },
    {
      "cell_type": "markdown",
      "source": [
        "1. apa fungsi variable pada program\n"
      ],
      "metadata": {
        "id": "j-fI3hIXqXpO"
      }
    },
    {
      "cell_type": "markdown",
      "source": [
        "Fungsi Variabel pada Program: Variabel adalah tempat penyimpanan data dalam program. Mereka memungkinkan kita menyimpan nilai yang bisa digunakan dan diubah selama program berjalan. Variabel berfungsi untuk menyimpan input pengguna, hasil operasi, atau nilai yang dibutuhkan pada berbagai tahap pemrograman."
      ],
      "metadata": {
        "id": "N8CBIFjurVxa"
      }
    },
    {
      "cell_type": "markdown",
      "source": [
        "2. sebutkan dan jelaskan 3 tipe data dasar pyhton\n",
        "\n"
      ],
      "metadata": {
        "id": "I4kG3kHrq9Rn"
      }
    },
    {
      "cell_type": "markdown",
      "source": [
        "Tipe Data Dasar Python:\n",
        "\n",
        "Integer (int): Tipe data yang digunakan untuk menyimpan bilangan bulat (tanpa desimal), misalnya: 10, -3, 42.\n",
        "Float: Tipe data yang digunakan untuk menyimpan bilangan desimal, misalnya: 3.14, -0.5, 2.0.\n",
        "String (str): Tipe data yang digunakan untuk menyimpan teks atau karakter, misalnya: \"Hello, World!\", 'Python'."
      ],
      "metadata": {
        "id": "ea2HYvjwrcbE"
      }
    },
    {
      "cell_type": "markdown",
      "source": [
        "\n",
        "\n",
        "3. jealskan fungsi operator +, -, x, /,%\n"
      ],
      "metadata": {
        "id": "V436dqokq8gK"
      }
    },
    {
      "cell_type": "markdown",
      "source": [
        "Fungsi Operator:\n",
        "\n",
        "Operator + (Penjumlahan): Menambahkan dua nilai. Contoh: 5 + 3 = 8.\n",
        "Operator - (Pengurangan): Mengurangi satu nilai dari nilai lain. Contoh: 10 - 4 = 6.\n",
        "Operator * (Perkalian): Mengalikan dua nilai. Contoh: 4 * 2 = 8.\n",
        "Operator / (Pembagian): Membagi satu nilai dengan nilai lain. Contoh: 9 / 3 = 3.\n",
        "Operator % (Modulus): Menghasilkan sisa dari pembagian. Contoh: 10 % 3 = 1.\n"
      ],
      "metadata": {
        "id": "Oo-m_QLrrpGa"
      }
    },
    {
      "cell_type": "markdown",
      "source": [
        "\n",
        "4. apa perbedaan antara operator == dan !=\n",
        "\n"
      ],
      "metadata": {
        "id": "v7mbGh9eq8Vd"
      }
    },
    {
      "cell_type": "markdown",
      "source": [
        "Perbedaan antara operator == dan !=\n",
        "\n",
        "== (Equals): Operator ini digunakan untuk membandingkan apakah dua nilai sama. Jika kedua nilai yang dibandingkan sama, hasilnya adalah True, jika tidak, hasilnya False.\n",
        "!= (Not Equals): Operator ini digunakan untuk membandingkan apakah dua nilai tidak sama. Jika kedua nilai yang dibandingkan berbeda, hasilnya adalah True, jika sama, hasilnya False."
      ],
      "metadata": {
        "id": "NhD0_MrCsD3s"
      }
    },
    {
      "cell_type": "markdown",
      "source": [
        "\n",
        "\n",
        "5. buatlah program sederhana untuk operator aritmatika, operator perbandinigan dan logika\n"
      ],
      "metadata": {
        "id": "w90oZ_ZJq8Ga"
      }
    },
    {
      "cell_type": "code",
      "source": [
        "\n",
        "a = 10\n",
        "b = 5\n",
        "\n",
        " #//Operator Aritmatika\n",
        "penjumlahan = a + b\n",
        "perkalian = a * b\n",
        "modulus = a % b\n",
        "\n",
        "# //Operator Perbandingan\n",
        "is_equal = (a == b)\n",
        "is_greater = (a > b)\n",
        "\n",
        "# //Operator Logika\n",
        "and_logic = (a > 5) and (b < 5)\n",
        "or_logic = (a > 5) or (b < 5)"
      ],
      "metadata": {
        "id": "hrp6uo06sWRk"
      },
      "execution_count": null,
      "outputs": []
    },
    {
      "cell_type": "markdown",
      "source": [
        "\n",
        "\n",
        "6. apa yang dimaksud logika programan\n"
      ],
      "metadata": {
        "id": "Wa_FPoXVq749"
      }
    },
    {
      "cell_type": "markdown",
      "source": [
        "Apa yang Dimaksud Logika Pemrograman:\n",
        "\n",
        "Logika pemrograman adalah cara berpikir sistematis untuk memecahkan masalah melalui program. Ini melibatkan penggunaan pernyataan logika, seperti IF-ELSE, pengulangan, dan operator logika, untuk membuat program berfungsi sesuai keinginan kita."
      ],
      "metadata": {
        "id": "QKpe1lmEsiP6"
      }
    },
    {
      "cell_type": "markdown",
      "source": [
        "\n",
        "\n",
        "7. tuliskan algoritma dan pseudcode untuk program yang meminta 2 angka dari pengguna\n"
      ],
      "metadata": {
        "id": "-5ha7xYGq7fx"
      }
    },
    {
      "cell_type": "markdown",
      "source": [
        "Algoritma:\n",
        "\n",
        "\n",
        "-Minta pengguna memasukkan angka pertama.\n",
        "\n",
        "-Minta pengguna memasukkan angka kedua.\n",
        "\n",
        "-Jumlahkan kedua angka.\n",
        "\n",
        "-Tampilkan hasil penjumlahan.\n",
        "\n",
        "\n",
        "\n",
        "Pseudocode:\n",
        "\n",
        "START\n",
        "\n",
        "  PRINT \"Masukkan angka pertama:\"\n",
        "\n",
        "  INPUT angka1\n",
        "\n",
        "  PRINT \"Masukkan angka kedua:\"\n",
        "\n",
        "  INPUT angka2\n",
        "  \n",
        "  PRINT \"Angka pertama:\", angka1\n",
        "\n",
        "  PRINT \"Angka kedua:\", angka2\n",
        "  \n",
        "END\n"
      ],
      "metadata": {
        "id": "Hm-7wns4srh2"
      }
    },
    {
      "cell_type": "markdown",
      "source": [
        "\n",
        "\n",
        "8. buatlah sebuah program kalkulator di python"
      ],
      "metadata": {
        "id": "y59Ks026rRZy"
      }
    },
    {
      "cell_type": "code",
      "source": [
        "def kalkulator():\n",
        "    print(\"Pilih operasi:\")\n",
        "    print(\"1. Penjumlahan\")\n",
        "    print(\"2. Pengurangan\")\n",
        "    print(\"3. Perkalian\")\n",
        "    print(\"4. Pembagian\")\n",
        "\n",
        "    operasi = input(\"Masukkan pilihan operasi (1-2-3-4): \")\n",
        "\n",
        "    angka1 = float(input(\"Masukkan angka pertama: \"))\n",
        "    angka2 = float(input(\"Masukkan angka kedua: \"))\n",
        "\n",
        "    if operasi == '1':\n",
        "        hasil = angka1 + angka2\n",
        "        print(f\"Hasil penjumlahan: {hasil}\")\n",
        "    elif operasi == '2':\n",
        "        hasil = angka1 - angka2\n",
        "        print(f\"Hasil pengurangan: {hasil}\")\n",
        "    elif operasi == '3':\n",
        "        hasil = angka1 * angka2\n",
        "        print(f\"Hasil perkalian: {hasil}\")\n",
        "    elif operasi == '4':\n",
        "        if angka2 != 0:\n",
        "            hasil = angka1 / angka2\n",
        "            print(f\"Hasil pembagian: {hasil}\")\n",
        "        else:\n",
        "            print(\"Error: Pembagian dengan nol!\")\n",
        "    else:\n",
        "        print(\"Operasi tidak valid!\")\n",
        "\n",
        "# Panggil fungsi kalkulator\n",
        "kalkulator()"
      ],
      "metadata": {
        "id": "YSPnimkHtOwM"
      },
      "execution_count": null,
      "outputs": []
    }
  ]
}