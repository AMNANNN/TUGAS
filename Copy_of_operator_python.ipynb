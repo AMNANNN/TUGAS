{
  "nbformat": 4,
  "nbformat_minor": 0,
  "metadata": {
    "colab": {
      "provenance": [],
      "authorship_tag": "ABX9TyPpSUajxqDPF347CjtC7zWw",
      "include_colab_link": true
    },
    "kernelspec": {
      "name": "python3",
      "display_name": "Python 3"
    },
    "language_info": {
      "name": "python"
    }
  },
  "cells": [
    {
      "cell_type": "markdown",
      "metadata": {
        "id": "view-in-github",
        "colab_type": "text"
      },
      "source": [
        "<a href=\"https://colab.research.google.com/github/AMNANNN/TUGAS/blob/main/Copy_of_operator_python.ipynb\" target=\"_parent\"><img src=\"https://colab.research.google.com/assets/colab-badge.svg\" alt=\"Open In Colab\"/></a>"
      ]
    },
    {
      "cell_type": "markdown",
      "source": [
        "  # **OPERATOR DI BAHASA PYTHON**\n",
        "\n",
        "---\n",
        "\n"
      ],
      "metadata": {
        "id": "Kzcyhc7d_fXM"
      }
    },
    {
      "cell_type": "markdown",
      "source": [
        " **1. Operator Aritmatika\n",
        "Digunakan untuk operasi matematika dasar:**\n",
        "\n",
        "+: Penjumlahan\n",
        "\n",
        "-: Pengurangan\n",
        "\n",
        "*: Perkalian\n",
        "\n",
        "/ : Pembagian\n",
        "\n",
        "% : Modulus (sisa bagi)\n",
        "\n",
        "** : Perpangkatan\n",
        "\n",
        "// : Pembagian bulat (floor)"
      ],
      "metadata": {
        "id": "qik-QukbBKph"
      }
    },
    {
      "cell_type": "markdown",
      "source": [
        "**2. Operator Perbandingan\n",
        "Digunakan untuk membandingkan dua nilai dan menghasilkan True atau False:**\n",
        "\n",
        "== : Sama dengan\n",
        "\n",
        "!= : Tidak sama dengan\n",
        "\n",
        "(>): Lebih besar dari\n",
        "\n",
        "< : Lebih kecil dari\n",
        "\n",
        "\n",
        "\n",
        "(>=) : Lebih besar atau sama dengan\n",
        "\n",
        "<= : Lebih kecil atau sama dengan"
      ],
      "metadata": {
        "id": "b8m8YQjqDys3"
      }
    },
    {
      "cell_type": "markdown",
      "source": [
        " **3. Operator Logika\n",
        "Digunakan untuk menggabungkan pernyataan logis:**\n",
        "\n",
        "and : True jika kedua pernyataan benar\n",
        "\n",
        "or : True jika salah satu pernyataan benar\n",
        "\n",
        "not : Membalikkan nilai logika\n",
        "\n",
        "\n",
        "\n",
        "\n",
        "       \n",
        "\n",
        "**4. Operator Penugasan\n",
        "Digunakan untuk memberikan nilai ke variabel:**\n",
        "\n",
        "\n",
        "= : Penugasan\n",
        "\n",
        "+=, -=, *=, /=, %=, **=, //= : Operasi dan penugasan gabungan\n",
        "\n",
        "**5. Operator Bitwise\n",
        "Digunakan untuk operasi pada level bit:**\n",
        "\n",
        "\n",
        "& : AND bitwise\n",
        "\n",
        "| : OR bitwise\n",
        "\n",
        "^ : XOR bitwise\n",
        "\n",
        "~ : NOT bitwise\n",
        "\n",
        "<< : Shift kiri\n",
        "\n",
        "(>>): Shift kanan\n",
        "\n",
        "\n",
        "**6. Operator Keanggotaan\n",
        "Memeriksa keanggotaan dalam suatu koleksi:**\n",
        "\n",
        "in : True jika nilai ada dalam koleksi\n",
        "\n",
        "not in : True jika nilai tidak ada dalam koleksi\n",
        "\n",
        "\n",
        "**7. Operator Identitas\n",
        "Memeriksa apakah dua objek adalah objek yang sama:**\n",
        "\n",
        "is : True jika kedua variabel menunjuk objek yang sama\n",
        "\n",
        "is not : True jika kedua variabel menunjuk objek yang berbeda"
      ],
      "metadata": {
        "id": "oPhPZq0fEjXl"
      }
    },
    {
      "cell_type": "code",
      "source": [
        "# Definisi variabel\n",
        "a = 10\n",
        "b = 5\n",
        "c = [1, 2, 3, 4]\n",
        "\n",
        "# 1. Operator Aritmatika\n",
        "print(\"Aritmatika:\")\n",
        "print(\"Penjumlahan:\", a + b)  # Output: 15\n",
        "print(\"Pengurangan:\", a - b)  # Output: 5\n",
        "print(\"Perkalian:\", a * b)    # Output: 50\n",
        "print(\"Pembagian:\", a / b)    # Output: 2.0\n",
        "print(\"Modulus:\", a % b)      # Output: 0\n",
        "print(\"Perpangkatan:\", a ** b) # Output: 100000\n",
        "print(\"Pembagian Bulat:\", a // b) # Output: 2\n",
        "\n",
        "# 2. Operator Perbandingan\n",
        "print(\"\\nPerbandingan:\")\n",
        "print(\"Sama dengan:\", a == b)  # Output: False\n",
        "print(\"Tidak sama dengan:\", a != b)  # Output: True\n",
        "print(\"Lebih besar dari:\", a > b)  # Output: True\n",
        "print(\"Lebih kecil dari:\", a < b)  # Output: False\n",
        "print(\"Lebih besar atau sama dengan:\", a >= b)  # Output: True\n",
        "print(\"Lebih kecil atau sama dengan:\", a <= b)  # Output: False\n",
        "\n",
        "# 3. Operator Logika\n",
        "print(\"\\nLogika:\")\n",
        "print(\"AND logika:\", a > b and a > 0)  # Output: True\n",
        "print(\"OR logika:\", a < b or a > 0)   # Output: True\n",
        "print(\"NOT logika:\", not (a == b))    # Output: True\n",
        "\n",
        "# 4. Operator Penugasan\n",
        "print(\"\\nPenugasan:\")\n",
        "a += 5  # Sama dengan a = a + 5\n",
        "print(\"Penjumlahan dan Penugasan:\", a)  # Output: 15\n",
        "a *= 2  # Sama dengan a = a * 2\n",
        "print(\"Perkalian dan Penugasan:\", a)    # Output: 30\n",
        "\n",
        "# 5. Operator Bitwise\n",
        "print(\"\\nBitwise:\")\n",
        "print(\"AND bitwise:\", a & b)  # Output: 0\n",
        "print(\"OR bitwise:\", a | b)   # Output: 15\n",
        "print(\"XOR bitwise:\", a ^ b)  # Output: 15\n",
        "print(\"NOT bitwise:\", ~a)     # Output: -31\n",
        "print(\"Shift kiri:\", a << 2)  # Output: 60\n",
        "print(\"Shift kanan:\", a >> 2) # Output: 7\n",
        "\n",
        "# 6. Operator Keanggotaan\n",
        "print(\"\\nKeanggotaan:\")\n",
        "print(\"5 in c:\", 5 in c)         # Output: False\n",
        "print(\"3 not in c:\", 3 not in c) # Output: False\n",
        "\n",
        "# 7. Operator Identitas\n",
        "print(\"\\nIdentitas:\")\n",
        "x = [1, 2, 3]\n",
        "y = x\n",
        "z = [1, 2, 3]\n",
        "print(\"x is y:\", x is y)         # Output: True (x dan y menunjuk ke objek yang sama)\n",
        "print(\"x is z:\", x is z)         # Output: False (x dan z adalah objek berbeda meskipun isinya sama)\n",
        "print(\"x is not z:\", x is not z) # Output: True\n"
      ],
      "metadata": {
        "id": "1IwScsHjH_jI"
      },
      "execution_count": null,
      "outputs": []
    },
    {
      "cell_type": "markdown",
      "source": [
        "**8. Operator Ternary**\n",
        "\n",
        "Operator ternary dalam Python adalah cara singkat untuk menuliskan pernyataan kondisional if-else dalam satu baris.\n"
      ],
      "metadata": {
        "id": "SMtyTV4sU3Fz"
      }
    },
    {
      "cell_type": "code",
      "source": [
        "nilai = 10\n",
        "hasil = \"Genap\" if nilai % 2 == 0 else \"Ganjil\"\n",
        "print(\"angka tersebut : \" + hasil)\n"
      ],
      "metadata": {
        "id": "xCDYoadVVYxd",
        "outputId": "53bca1d6-d883-4f61-9181-00ac077f301d",
        "colab": {
          "base_uri": "https://localhost:8080/"
        }
      },
      "execution_count": null,
      "outputs": [
        {
          "output_type": "stream",
          "name": "stdout",
          "text": [
            "angka tersebut : Genap\n"
          ]
        }
      ]
    }
  ]
}