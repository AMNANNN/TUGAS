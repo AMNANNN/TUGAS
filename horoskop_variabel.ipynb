{
  "nbformat": 4,
  "nbformat_minor": 0,
  "metadata": {
    "colab": {
      "provenance": [],
      "authorship_tag": "ABX9TyPCYWio0r7A9yNjkWbVvRXV",
      "include_colab_link": true
    },
    "kernelspec": {
      "name": "python3",
      "display_name": "Python 3"
    },
    "language_info": {
      "name": "python"
    }
  },
  "cells": [
    {
      "cell_type": "markdown",
      "metadata": {
        "id": "view-in-github",
        "colab_type": "text"
      },
      "source": [
        "<a href=\"https://colab.research.google.com/github/AMNANNN/TUGAS/blob/main/horoskop_variabel.ipynb\" target=\"_parent\"><img src=\"https://colab.research.google.com/assets/colab-badge.svg\" alt=\"Open In Colab\"/></a>"
      ]
    },
    {
      "cell_type": "code",
      "execution_count": 2,
      "metadata": {
        "colab": {
          "base_uri": "https://localhost:8080/"
        },
        "id": "fQNaNReyLGfe",
        "outputId": "1c039f25-a9d4-4e85-cbcf-bc0bf6f950d0"
      },
      "outputs": [
        {
          "output_type": "stream",
          "name": "stdout",
          "text": [
            "masukkan nama anda : amnan\n",
            "masukkan bulan lahir anda : desember\n",
            "masukkan nama pasangan anda : nan\n",
            "masukkan bulan lahir pasangan anda : april\n",
            "sesuai zodiakius amnan dengan nan sangat cucokk\n"
          ]
        }
      ],
      "source": [
        "nama1 = input (\"masukkan nama anda : \")\n",
        "bulan1 = input(\"masukkan bulan lahir anda : \")\n",
        "nama2 = input(\"masukkan nama pasangan anda : \")\n",
        "bulan2 = input(\"masukkan bulan lahir pasangan anda : \")\n",
        "\n",
        "\n",
        "hasil = \"sesuai zodiakius \" + nama1 + \" dengan \" + nama2 + \" sangat cucokk\"\n",
        "print(hasil)"
      ]
    }
  ]
}